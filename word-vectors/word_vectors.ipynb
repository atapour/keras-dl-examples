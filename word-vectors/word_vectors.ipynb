{
  "nbformat": 4,
  "nbformat_minor": 0,
  "metadata": {
    "colab": {
      "name": "Lecture-09_Word_Vectors.ipynb",
      "provenance": [],
      "collapsed_sections": []
    },
    "kernelspec": {
      "name": "python3",
      "display_name": "Python 3"
    }
  },
  "cells": [
    {
      "cell_type": "markdown",
      "metadata": {
        "id": "o2WuUvvx56ml"
      },
      "source": [
        "# Python code for a demonstration of Word Embeddings (Word2Vec)\n",
        "---\n",
        "\n",
        "## Author : Amir Atapour-Abarghouei, amir.atapour-abarghouei@newcastle.ac.uk\n",
        "\n",
        "This notebook will provide a simple example that loads pre-trained word embeddings and performs a few arithmetic operations.\n",
        "\n",
        "This is a code demonstration for CSC8637: Deep Learning module, Lecture 09: Time-Series Data: Natural Language Processing.\n",
        "\n",
        "Copyright (c) 2021 School of Computing, Newcastle University, UK.\n",
        "\n",
        "License : LGPL - http://www.gnu.org/licenses/lgpl.html"
      ]
    },
    {
      "cell_type": "markdown",
      "metadata": {
        "id": "Epqq5UY17Vwj"
      },
      "source": [
        "Here, we want to see what Word2Vec can do. There has been a lot of hype about this and many of you may already be familiar with the word embedding arithmetics.\n",
        "\n",
        "We will download the Word2Vec model trained on part of the Google News dataset, covering approximately 3 million words and phrases. While this model is not the strongest, it can still take hours to train. In this demo, we will use a pre-trained version that can be downloaded and loaded within minutes."
      ]
    },
    {
      "cell_type": "markdown",
      "metadata": {
        "id": "DCnPo-tE8YJT"
      },
      "source": [
        "You might want to play around with a more robust online demo trained on the entire Google News dataset.\n",
        "\n",
        "The demo can be found here: https://rare-technologies.com/word2vec-tutorial/#app"
      ]
    },
    {
      "cell_type": "markdown",
      "metadata": {
        "id": "YxQuPKsV83bA"
      },
      "source": [
        "To make things easier, we use the [Gensim library](https://pypi.org/project/gensim/), which is used for unsupervised topic modeling and natural language processing."
      ]
    },
    {
      "cell_type": "markdown",
      "metadata": {
        "id": "CrgcJfqQ9kSr"
      },
      "source": [
        "Let's get to it! First, we import what we need from the Gensim library."
      ]
    },
    {
      "cell_type": "code",
      "metadata": {
        "id": "2uZAWuyVlwj2"
      },
      "source": [
        "# Required imports:\n",
        "import gensim.downloader as api\n",
        "import gensim\n",
        "import sys\n",
        "\n",
        "# All python warnings are ignored here:\n",
        "import warnings\n",
        "warnings.filterwarnings(action='ignore')\n",
        "\n",
        "# Printing the versions of Python and Gensim:\n",
        "print('Python version:', sys.version)\n",
        "print('Gensim version:', gensim.__version__)\n"
      ],
      "execution_count": null,
      "outputs": []
    },
    {
      "cell_type": "markdown",
      "metadata": {
        "id": "nfSxZluX-yk2"
      },
      "source": [
        "We should download the pre-trained word vectors and check how many words are available:"
      ]
    },
    {
      "cell_type": "code",
      "metadata": {
        "id": "NJPdmMKrphqU"
      },
      "source": [
        "# Download and load the Word Vectors (wv):\n",
        "wv = api.load('word2vec-google-news-300')\n",
        "print(f'{len(wv.vocab.keys())} words are available.')"
      ],
      "execution_count": null,
      "outputs": []
    },
    {
      "cell_type": "markdown",
      "metadata": {
        "id": "oN_OV_lu_nAy"
      },
      "source": [
        "The [`most_similar`](https://tedboy.github.io/nlps/generated/generated/gensim.models.Word2Vec.most_similar.html) command will find the top-N most similar words within our vocabulary."
      ]
    },
    {
      "cell_type": "code",
      "metadata": {
        "id": "EiLau7inmgtZ"
      },
      "source": [
        "wv.most_similar('banana')"
      ],
      "execution_count": null,
      "outputs": []
    },
    {
      "cell_type": "code",
      "metadata": {
        "id": "rR_BqpdHonOw"
      },
      "source": [
        "wv.most_similar('dog')"
      ],
      "execution_count": null,
      "outputs": []
    },
    {
      "cell_type": "markdown",
      "metadata": {
        "id": "RLv0X7LHAcil"
      },
      "source": [
        "We can try to find **dissimilar** words using the `negative` argument. You will see that this normally won't give us any meaningful information, but it can enable word arithmetics."
      ]
    },
    {
      "cell_type": "code",
      "metadata": {
        "id": "GzuPkcH3vH7O"
      },
      "source": [
        "wv.most_similar(negative='rich')"
      ],
      "execution_count": null,
      "outputs": []
    },
    {
      "cell_type": "markdown",
      "metadata": {
        "id": "Ttzh02NnBEez"
      },
      "source": [
        "We can try doing operations like `woman - man + king `, which essentially gives us \"*Man is to King as Woman is to ...*\""
      ]
    },
    {
      "cell_type": "code",
      "metadata": {
        "id": "ffrKhbiWstme"
      },
      "source": [
        "result = wv.most_similar(positive=['woman', 'king'], negative=['man'])\n",
        "print(\"{}: {:.2f}\".format(*result[0]))"
      ],
      "execution_count": null,
      "outputs": []
    },
    {
      "cell_type": "markdown",
      "metadata": {
        "id": "pan3WTbOB0XD"
      },
      "source": [
        "We can write a funcion `analogy()` that does the above operation for us:"
      ]
    },
    {
      "cell_type": "code",
      "metadata": {
        "id": "21V064H8tAIO"
      },
      "source": [
        "# A function that performs the word vector arithmetics:\n",
        "def analogy(x1, x2, y1):\n",
        "    result = wv.most_similar(positive=[y1, x2], negative=[x1])\n",
        "    return result[0][0]"
      ],
      "execution_count": null,
      "outputs": []
    },
    {
      "cell_type": "markdown",
      "metadata": {
        "id": "41BPYQDsCYrf"
      },
      "source": [
        "Now, let's try it out:"
      ]
    },
    {
      "cell_type": "code",
      "metadata": {
        "id": "A3aTLxt1tILg"
      },
      "source": [
        "analogy('father', 'mother', 'brother')"
      ],
      "execution_count": null,
      "outputs": []
    },
    {
      "cell_type": "code",
      "metadata": {
        "id": "cppkfnDjtlxl"
      },
      "source": [
        "analogy('father', 'son', 'mother')"
      ],
      "execution_count": null,
      "outputs": []
    },
    {
      "cell_type": "code",
      "metadata": {
        "id": "ipWZ3tRwts4x"
      },
      "source": [
        "analogy('britain', 'british', 'australia')"
      ],
      "execution_count": null,
      "outputs": []
    },
    {
      "cell_type": "code",
      "metadata": {
        "id": "Lv0NNgNOxdhm"
      },
      "source": [
        "analogy('flower', 'petal', 'tree')"
      ],
      "execution_count": null,
      "outputs": []
    },
    {
      "cell_type": "code",
      "metadata": {
        "id": "nyhB5zq5xGAw"
      },
      "source": [
        "analogy('clean', 'cleaner', 'far')"
      ],
      "execution_count": null,
      "outputs": []
    },
    {
      "cell_type": "code",
      "metadata": {
        "id": "WEsLYYJ9x2Db"
      },
      "source": [
        "analogy('good', 'well', 'quick')"
      ],
      "execution_count": null,
      "outputs": []
    },
    {
      "cell_type": "code",
      "metadata": {
        "id": "BNzJZr5nvqJa"
      },
      "source": [
        "analogy('good', 'fantastic', 'ugly')"
      ],
      "execution_count": null,
      "outputs": []
    },
    {
      "cell_type": "markdown",
      "metadata": {
        "id": "8KWtpGkSCcu8"
      },
      "source": [
        "The [`doesnt_match`](hhttps://tedboy.github.io/nlps/generated/generated/gensim.models.Doc2Vec.doesnt_match.html) function can tell us which word from a given list doesn’t go with the others."
      ]
    },
    {
      "cell_type": "code",
      "metadata": {
        "id": "MRs4ffFavvXM"
      },
      "source": [
        "print(wv.doesnt_match(\"table garden chair sofa\".split()))"
      ],
      "execution_count": null,
      "outputs": []
    },
    {
      "cell_type": "code",
      "metadata": {
        "id": "LyugUC-KzlAt"
      },
      "source": [
        "print(wv.doesnt_match(\"virus pandemic lockdown party\".split()))"
      ],
      "execution_count": null,
      "outputs": []
    },
    {
      "cell_type": "markdown",
      "metadata": {
        "id": "unIPUOlgC9u-"
      },
      "source": [
        "We should always keep in mind that things don't always work out the way we want them to. The vectors we are using here have been trained on a relatively small dataset, but even stronger word embeddings trained on massive corpora of text still suffer from significant issues, mostly due to the bias structurally inherent within the language and the cultures associated with it.\n",
        "\n",
        "We will talk about this *algorithmic bias* in a future lecture."
      ]
    },
    {
      "cell_type": "code",
      "metadata": {
        "id": "oieM_U-20eoe"
      },
      "source": [
        "analogy('britain', 'british', 'sweden')"
      ],
      "execution_count": null,
      "outputs": []
    },
    {
      "cell_type": "code",
      "metadata": {
        "id": "k48_EOXd1fGy"
      },
      "source": [
        "analogy('man', 'schoolteacher', 'woman')"
      ],
      "execution_count": null,
      "outputs": []
    }
  ]
}