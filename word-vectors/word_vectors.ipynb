{
  "nbformat": 4,
  "nbformat_minor": 2,
  "metadata": {
    "colab": {
      "name": "Lecture-09_Word_Vectors.ipynb",
      "provenance": [],
      "collapsed_sections": []
    },
    "kernelspec": {
      "name": "python3",
      "display_name": "Python 3"
    }
  },
  "cells": [
    {
      "cell_type": "markdown",
      "source": [
        "# Python code for a demonstration of Word Embeddings (Word2Vec)\n",
        "---\n",
        "\n",
        "## Author : Amir Atapour-Abarghouei, amir.atapour-abarghouei@newcastle.ac.uk\n",
        "\n",
        "This notebook will provide a simple example that loads pre-trained word embeddings and performs a few arithmetic operations.\n",
        "\n",
        "This is a code demonstration for CSC8637: Deep Learning module, Lecture 09: Time-Series Data: Natural Language Processing.\n",
        "\n",
        "Copyright (c) 2021 Amir Atapour-Abarghouei, UK.\n",
        "\n",
        "License : LGPL - http://www.gnu.org/licenses/lgpl.html"
      ],
      "metadata": {
        "id": "o2WuUvvx56ml"
      }
    },
    {
      "cell_type": "markdown",
      "source": [
        "Here, we want to see what Word2Vec can do. There has been a lot of hype about this and many of you may already be familiar with the word embedding arithmetics.\n",
        "\n",
        "We will download the Word2Vec model trained on part of the Google News dataset, covering approximately 3 million words and phrases. While this model is not the strongest, it can still take hours to train. In this demo, we will use a pre-trained version that can be downloaded and loaded within minutes."
      ],
      "metadata": {
        "id": "Epqq5UY17Vwj"
      }
    },
    {
      "cell_type": "markdown",
      "source": [
        "You might want to play around with a more robust online demo trained on the entire Google News dataset.\n",
        "\n",
        "The demo can be found here: https://rare-technologies.com/word2vec-tutorial/#app"
      ],
      "metadata": {
        "id": "DCnPo-tE8YJT"
      }
    },
    {
      "cell_type": "markdown",
      "source": [
        "To make things easier, we use the [Gensim library](https://pypi.org/project/gensim/), which is used for unsupervised topic modeling and natural language processing."
      ],
      "metadata": {
        "id": "YxQuPKsV83bA"
      }
    },
    {
      "cell_type": "markdown",
      "source": [
        "Let's get to it! First, we import what we need from the Gensim library."
      ],
      "metadata": {
        "id": "CrgcJfqQ9kSr"
      }
    },
    {
      "cell_type": "code",
      "execution_count": null,
      "source": [
        "# Required imports:\n",
        "import gensim.downloader as api\n",
        "import gensim\n",
        "import sys\n",
        "\n",
        "# All python warnings are ignored here:\n",
        "import warnings\n",
        "warnings.filterwarnings(action='ignore')\n",
        "\n",
        "# Printing the versions of Python and Gensim:\n",
        "print('Python version:', sys.version)\n",
        "print('Gensim version:', gensim.__version__)\n"
      ],
      "outputs": [],
      "metadata": {
        "id": "2uZAWuyVlwj2"
      }
    },
    {
      "cell_type": "markdown",
      "source": [
        "We should download the pre-trained word vectors and check how many words are available:"
      ],
      "metadata": {
        "id": "nfSxZluX-yk2"
      }
    },
    {
      "cell_type": "code",
      "execution_count": null,
      "source": [
        "# Download and load the Word Vectors (wv):\n",
        "wv = api.load('word2vec-google-news-300')\n",
        "print(f'{len(wv.vocab.keys())} words are available.')"
      ],
      "outputs": [],
      "metadata": {
        "id": "NJPdmMKrphqU"
      }
    },
    {
      "cell_type": "markdown",
      "source": [
        "The [`most_similar`](https://tedboy.github.io/nlps/generated/generated/gensim.models.Word2Vec.most_similar.html) command will find the top-N most similar words within our vocabulary."
      ],
      "metadata": {
        "id": "oN_OV_lu_nAy"
      }
    },
    {
      "cell_type": "code",
      "execution_count": null,
      "source": [
        "wv.most_similar('banana')"
      ],
      "outputs": [],
      "metadata": {
        "id": "EiLau7inmgtZ"
      }
    },
    {
      "cell_type": "code",
      "execution_count": null,
      "source": [
        "wv.most_similar('dog')"
      ],
      "outputs": [],
      "metadata": {
        "id": "rR_BqpdHonOw"
      }
    },
    {
      "cell_type": "markdown",
      "source": [
        "We can try to find **dissimilar** words using the `negative` argument. You will see that this normally won't give us any meaningful information, but it can enable word arithmetics."
      ],
      "metadata": {
        "id": "RLv0X7LHAcil"
      }
    },
    {
      "cell_type": "code",
      "execution_count": null,
      "source": [
        "wv.most_similar(negative='rich')"
      ],
      "outputs": [],
      "metadata": {
        "id": "GzuPkcH3vH7O"
      }
    },
    {
      "cell_type": "markdown",
      "source": [
        "We can try doing operations like `woman - man + king `, which essentially gives us \"*Man is to King as Woman is to ...*\""
      ],
      "metadata": {
        "id": "Ttzh02NnBEez"
      }
    },
    {
      "cell_type": "code",
      "execution_count": null,
      "source": [
        "result = wv.most_similar(positive=['woman', 'king'], negative=['man'])\n",
        "print(\"{}: {:.2f}\".format(*result[0]))"
      ],
      "outputs": [],
      "metadata": {
        "id": "ffrKhbiWstme"
      }
    },
    {
      "cell_type": "markdown",
      "source": [
        "We can write a funcion `analogy()` that does the above operation for us:"
      ],
      "metadata": {
        "id": "pan3WTbOB0XD"
      }
    },
    {
      "cell_type": "code",
      "execution_count": null,
      "source": [
        "# A function that performs the word vector arithmetics:\n",
        "def analogy(x1, x2, y1):\n",
        "    result = wv.most_similar(positive=[y1, x2], negative=[x1])\n",
        "    return result[0][0]"
      ],
      "outputs": [],
      "metadata": {
        "id": "21V064H8tAIO"
      }
    },
    {
      "cell_type": "markdown",
      "source": [
        "Now, let's try it out:"
      ],
      "metadata": {
        "id": "41BPYQDsCYrf"
      }
    },
    {
      "cell_type": "code",
      "execution_count": null,
      "source": [
        "analogy('father', 'mother', 'brother')"
      ],
      "outputs": [],
      "metadata": {
        "id": "A3aTLxt1tILg"
      }
    },
    {
      "cell_type": "code",
      "execution_count": null,
      "source": [
        "analogy('father', 'son', 'mother')"
      ],
      "outputs": [],
      "metadata": {
        "id": "cppkfnDjtlxl"
      }
    },
    {
      "cell_type": "code",
      "execution_count": null,
      "source": [
        "analogy('britain', 'british', 'australia')"
      ],
      "outputs": [],
      "metadata": {
        "id": "ipWZ3tRwts4x"
      }
    },
    {
      "cell_type": "code",
      "execution_count": null,
      "source": [
        "analogy('flower', 'petal', 'tree')"
      ],
      "outputs": [],
      "metadata": {
        "id": "Lv0NNgNOxdhm"
      }
    },
    {
      "cell_type": "code",
      "execution_count": null,
      "source": [
        "analogy('clean', 'cleaner', 'far')"
      ],
      "outputs": [],
      "metadata": {
        "id": "nyhB5zq5xGAw"
      }
    },
    {
      "cell_type": "code",
      "execution_count": null,
      "source": [
        "analogy('good', 'well', 'quick')"
      ],
      "outputs": [],
      "metadata": {
        "id": "WEsLYYJ9x2Db"
      }
    },
    {
      "cell_type": "code",
      "execution_count": null,
      "source": [
        "analogy('good', 'fantastic', 'ugly')"
      ],
      "outputs": [],
      "metadata": {
        "id": "BNzJZr5nvqJa"
      }
    },
    {
      "cell_type": "markdown",
      "source": [
        "The [`doesnt_match`](hhttps://tedboy.github.io/nlps/generated/generated/gensim.models.Doc2Vec.doesnt_match.html) function can tell us which word from a given list doesn’t go with the others."
      ],
      "metadata": {
        "id": "8KWtpGkSCcu8"
      }
    },
    {
      "cell_type": "code",
      "execution_count": null,
      "source": [
        "print(wv.doesnt_match(\"table garden chair sofa\".split()))"
      ],
      "outputs": [],
      "metadata": {
        "id": "MRs4ffFavvXM"
      }
    },
    {
      "cell_type": "code",
      "execution_count": null,
      "source": [
        "print(wv.doesnt_match(\"virus pandemic lockdown party\".split()))"
      ],
      "outputs": [],
      "metadata": {
        "id": "LyugUC-KzlAt"
      }
    },
    {
      "cell_type": "markdown",
      "source": [
        "We should always keep in mind that things don't always work out the way we want them to. The vectors we are using here have been trained on a relatively small dataset, but even stronger word embeddings trained on massive corpora of text still suffer from significant issues, mostly due to the bias structurally inherent within the language and the cultures associated with it.\n",
        "\n",
        "We will talk about this *algorithmic bias* in a future lecture."
      ],
      "metadata": {
        "id": "unIPUOlgC9u-"
      }
    },
    {
      "cell_type": "code",
      "execution_count": null,
      "source": [
        "analogy('britain', 'british', 'sweden')"
      ],
      "outputs": [],
      "metadata": {
        "id": "oieM_U-20eoe"
      }
    },
    {
      "cell_type": "code",
      "execution_count": null,
      "source": [
        "analogy('man', 'schoolteacher', 'woman')"
      ],
      "outputs": [],
      "metadata": {
        "id": "k48_EOXd1fGy"
      }
    }
  ]
}