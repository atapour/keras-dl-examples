{
  "nbformat": 4,
  "nbformat_minor": 0,
  "metadata": {
    "colab": {
      "name": "Lecture11_GAN.ipynb",
      "provenance": [],
      "collapsed_sections": []
    },
    "kernelspec": {
      "name": "python3",
      "display_name": "Python 3"
    },
    "accelerator": "GPU"
  },
  "cells": [
    {
      "cell_type": "markdown",
      "metadata": {
        "id": "HiyK9v7m3uOq"
      },
      "source": [
        "# Keras code for a Generative Adversarial Network using CIFAR-10\n",
        "---\n",
        "\n",
        "## Author : Amir Atapour-Abarghouei, amir.atapour-abarghouei@newcastle.ac.uk\n",
        "\n",
        "This notebook will provide an example for a Generative Adversarial Network (GAN), generating images from the CIFAR-10 dataset.\n",
        "\n",
        "This is a code demonstration for CSC8637: Deep Learning module, Lecture 11: Generative Models. \n",
        "\n",
        "Copyright (c) 2021 School of Computing, Newcastle University, UK.\n",
        "\n",
        "License : LGPL - http://www.gnu.org/licenses/lgpl.html"
      ]
    },
    {
      "cell_type": "markdown",
      "metadata": {
        "id": "bvYyOmMF776K"
      },
      "source": [
        "The CIFAR-10 dataset contains 50,000 training images and 10,000 test images. In the following snippet, we first load and explore the dataset by visualising the first few images within the dataset:"
      ]
    },
    {
      "cell_type": "code",
      "metadata": {
        "id": "L9DHVccy2RdT"
      },
      "source": [
        "# Required imports:\n",
        "from matplotlib import pyplot\n",
        "from tensorflow.keras.datasets import cifar10\n",
        "\n",
        "# The dataset should contain 50,000 training images and 10,000 test images.\n",
        "# Loading the dataset:\n",
        "print('CIFAR-10 Dataset!')\n",
        "(train_X, train_Y), (test_X, test_Y) = cifar10.load_data()\n",
        "\n",
        "# Displaying the first thirty-six images within the dataset:\n",
        "for i in range(36):\n",
        "  # subplot:\n",
        "  pyplot.subplot(6, 6, i+1)\n",
        "  # plot image without any axes:\n",
        "  pyplot.axis('off')\n",
        "  pyplot.imshow(train_X[i])\n",
        "# show the first 36 images:\n",
        "pyplot.show()\n",
        "\n",
        "# Dispalying information about the loaded dataset:\n",
        "print(f'There are {train_X.shape[0]} images of size {train_X.shape[1:]} in the Training set.')\n",
        "print(f'There are {test_X.shape[0]} images of size {test_X.shape[1:]} in the Test set.')"
      ],
      "execution_count": null,
      "outputs": []
    },
    {
      "cell_type": "markdown",
      "metadata": {
        "id": "jtyLC61r2tZh"
      },
      "source": [
        "We will use the images in the training set to train our GAN model. The goal is for the model to capture the underlying distribution of the data and generate new samples from the distribution. Now we can begin preparing for the training process. First, let's import all that we need:"
      ]
    },
    {
      "cell_type": "code",
      "metadata": {
        "id": "f2qiRCTTLdpM"
      },
      "source": [
        "import sys\n",
        "from numpy import expand_dims\n",
        "from numpy import zeros\n",
        "from numpy import ones\n",
        "from numpy.random import randn\n",
        "from numpy.random import randint\n",
        "from tensorflow.keras.optimizers import Adam\n",
        "from tensorflow.keras.models import Sequential\n",
        "from tensorflow.keras.layers import Dense\n",
        "from tensorflow.keras.layers import Reshape\n",
        "from tensorflow.keras.layers import Flatten\n",
        "from tensorflow.keras.layers import Conv2D\n",
        "from tensorflow.keras.layers import Conv2DTranspose\n",
        "from tensorflow.keras.layers import LeakyReLU\n",
        "from tensorflow.keras.datasets.cifar10 import load_data\n",
        "from matplotlib import pyplot\n",
        "from tensorflow import keras\n",
        "import tensorflow as tf\n",
        "\n",
        "print('Keras version:', keras.__version__)\n",
        "print(\"Num GPUs Available: \", len(tf.config.experimental.list_physical_devices('GPU')))"
      ],
      "execution_count": null,
      "outputs": []
    },
    {
      "cell_type": "markdown",
      "metadata": {
        "id": "khsYp2iGNWHV"
      },
      "source": [
        "Let's start by defining the architectures of our networks. Our model is *loosely* based on [DCGAN](https://arxiv.org/abs/1511.06434).\n",
        "\n",
        "Our discriminator will receive an image of size 32x32x3 (size of CIFAR-10 data) and perform binary classification. All downsampling within the network will be done using strided convolutions:"
      ]
    },
    {
      "cell_type": "code",
      "metadata": {
        "id": "UwcJww6zNwOx"
      },
      "source": [
        "# Function used to create our discriminator network:\n",
        "def create_discriminator(input_shape=(32,32,3)):\n",
        "\n",
        "  model = Sequential()\n",
        "\n",
        "  # At first, the discriminator will recieve the input image:\n",
        "  model.add(Conv2D(64, (3,3), padding='same', input_shape=input_shape))\n",
        "  model.add(LeakyReLU(alpha=0.2))\n",
        "\n",
        "  # downsample the features by half:\n",
        "  model.add(Conv2D(128, (3,3), strides=(2,2), padding='same'))\n",
        "  model.add(LeakyReLU(alpha=0.2))\n",
        "\n",
        "  # downsample the features by half:\n",
        "  model.add(Conv2D(128, (3,3), strides=(2,2), padding='same'))\n",
        "  model.add(LeakyReLU(alpha=0.2))\n",
        "\n",
        "  # downsample the features by half:\n",
        "  model.add(Conv2D(256, (3,3), strides=(2,2), padding='same'))\n",
        "  model.add(LeakyReLU(alpha=0.2))\n",
        "\n",
        "  # the feature map is now flattened and classified (binary - sigmoind, BCE):\n",
        "  model.add(Flatten())\n",
        "  model.add(Dense(1, activation='sigmoid'))\n",
        "\n",
        "  # adding the optimiser and the loss function:\n",
        "  opt = Adam(lr=0.0002, beta_1=0.5)\n",
        "  model.compile(loss='binary_crossentropy', optimizer=opt, metrics=['accuracy'])\n",
        "\n",
        "  # print model summary:\n",
        "  print(model.summary())\n",
        "\n",
        "  return model\n",
        "\n",
        "print('Done!')"
      ],
      "execution_count": null,
      "outputs": []
    },
    {
      "cell_type": "markdown",
      "metadata": {
        "id": "IDBCjcmWbxzv"
      },
      "source": [
        "Our generator will receive a 100d latent vector as its input and will generate images of size 32x32x3. We will use transpose convolutions here to upsample the feature maps. The 100d noise vector will be mapped into a 4x4x256 feature vector and then upsampled from there.\n",
        "\n",
        "The output layer of the generator has the activation function `tanh`. This means the output images will have pixel values in the range \\[-1,1\\]. So make sure your real samples (input images from the training dataset) are also in the same range. You could also use a `sigmoid` function, in which case the outputs are and the inputs need to be in the range \\[0,1\\]."
      ]
    },
    {
      "cell_type": "code",
      "metadata": {
        "id": "yiG3RbQfnMEz"
      },
      "source": [
        "# Function used to create our generator network:\n",
        "def create_generator(z_dim):\n",
        "\n",
        "  model = Sequential()\n",
        "\n",
        "  # map the z vector to a 4x4 image with 256 feature channels:\n",
        "  # first we create a 4096d vector using a fully connected layer:\n",
        "  starting_feature_map_size = 256 * 4 * 4\n",
        "  model.add(Dense(starting_feature_map_size, input_dim=z_dim))\n",
        "  model.add(LeakyReLU(alpha=0.2))\n",
        "\n",
        "  # and then reshape the 4096d vector to a 4x4x256 feature map:\n",
        "  model.add(Reshape((4, 4, 256)))\n",
        "\n",
        "  # upsample the features to 8x8\n",
        "  model.add(Conv2DTranspose(128, (4,4), strides=(2,2), padding='same'))\n",
        "  model.add(LeakyReLU(alpha=0.2))\n",
        "\n",
        "  # upsample the features to 16x16\n",
        "  model.add(Conv2DTranspose(128, (4,4), strides=(2,2), padding='same'))\n",
        "  model.add(LeakyReLU(alpha=0.2))\n",
        "\n",
        "  # upsample the features to 32x32\n",
        "  model.add(Conv2DTranspose(128, (4,4), strides=(2,2), padding='same'))\n",
        "  model.add(LeakyReLU(alpha=0.2))\n",
        "\n",
        "  # the output conv layer will create a 32x32x3 image:\n",
        "  # Note that the output layer of the generator has an activation function 'tanh'. This means the output images will have pixel\n",
        "  # values in the range [-1,1]. So make sure your real samples (input images from the training dataset) are also\n",
        "  # in the same range. You could also use a 'sigmoid' function, in which case the input and the output need to be\n",
        "  # in the range [0,1].\n",
        "  model.add(Conv2D(3, (3,3), activation='tanh', padding='same'))\n",
        "\n",
        "  # Note that since the generator is trained using gradients from the discriminator, it is never trained alone.\n",
        "  # So we don't need an optimiser in this function.\n",
        "\n",
        "  # print model summary:\n",
        "  print(model.summary())\n",
        "\n",
        "  return model\n",
        "\n",
        "print('Done!')"
      ],
      "execution_count": null,
      "outputs": []
    },
    {
      "cell_type": "markdown",
      "metadata": {
        "id": "XtqWPj_zoLp5"
      },
      "source": [
        "Now, every time we want to train the generator, it needs to be trained end to end with the discriminator so we need a combined generator-discriminator model:"
      ]
    },
    {
      "cell_type": "code",
      "metadata": {
        "id": "fuEbKJFLon0n"
      },
      "source": [
        "# Function used to create our combined generator and discriminator model, for training the generator:\n",
        "def create_gan(generator, discriminator):\n",
        "\n",
        "  # since this model is only used to train the generator, we make our discriminator not trainable:\n",
        "  discriminator.trainable = False\n",
        "\n",
        "  # we then create an end-to-end model connecting the two networks:\n",
        "  model = Sequential()\n",
        "  # add the generator network\n",
        "  model.add(generator)\n",
        "  # add the discriminator network\n",
        "  model.add(discriminator)\n",
        "\n",
        "  # adding the optimiser and the loss function (BCE):\n",
        "  opt = Adam(lr=0.0002, beta_1=0.5)\n",
        "  model.compile(loss='binary_crossentropy', optimizer=opt)\n",
        "\n",
        "  return model\n",
        "\n",
        "print('Done!')"
      ],
      "execution_count": null,
      "outputs": []
    },
    {
      "cell_type": "markdown",
      "metadata": {
        "id": "3yccCNs4tHfj"
      },
      "source": [
        "We will now define a series of functions that will deal with our data in various ways. First, let's define two functions. The first one defined below will load and prepare our training data from CIFAR-10 and the second will select \"real samples\" from the dataset to train the discriminator with:"
      ]
    },
    {
      "cell_type": "code",
      "metadata": {
        "id": "pFaFXsetwSN9"
      },
      "source": [
        "# This function loads and processes CIFAR-10 images:\n",
        "def load_prepare_dataset():\n",
        "\n",
        "\t# load the training dataset. We discard the test set and all the labels.\n",
        "  # Generative models are unsupervised, if you remember from the lectures, and do not need labels:\n",
        "  (train_x, _), (_, _) = load_data()\n",
        "\n",
        "  # convert image pixel values to floating point values:\n",
        "  x = train_x.astype('float32')\n",
        "\n",
        "  # scale image pixel values from [0,255] to [-1,1] (remember the tanh used in the last layer of our generator)\n",
        "  x = (x - 127.5) / 127.5\n",
        "\n",
        "  return x\n",
        "\n",
        "# ---------------------------------------------------\n",
        "# ---------------------------------------------------\n",
        "\n",
        "# This function selects and returns real samples from the already loaded and processed training set:\n",
        "def get_real_samples(data, num_samples):\n",
        "\n",
        "  # choose random instances from our dataset. We use numpy to get the random indexes:\n",
        "  i = randint(0, data.shape[0], num_samples)\n",
        "\n",
        "  # get the selected images from the dataset using the random indices:\n",
        "  x = data[i]\n",
        "\n",
        "  # since this function returns real samples, we need 'real' class labels for the discriminators.\n",
        "  # This means these images should have the label \"1\":\n",
        "  y = ones((num_samples, 1))\n",
        "\n",
        "  return x, y\n",
        "\n",
        "print('Done!')"
      ],
      "execution_count": null,
      "outputs": []
    },
    {
      "cell_type": "markdown",
      "metadata": {
        "id": "26DiNl6FyulL"
      },
      "source": [
        "Our generator will receive a 100d noise vector sampled from a \"Normal Gaussian\". We need a function to sample and return such a vector:"
      ]
    },
    {
      "cell_type": "code",
      "metadata": {
        "id": "SsDnXmeXzGyU"
      },
      "source": [
        "# Function to sample a noise vector from a Normal Gaussian for the generator input:\n",
        "def sample_z(z_dim, num_samples):\n",
        "\n",
        "  # sample a noise vector from a standard Gaussian\n",
        "  z = randn(z_dim * num_samples)\n",
        "\n",
        "  # reshape the noise vector into a batch of inputs for the generator:\n",
        "  z = z.reshape(num_samples, z_dim)\n",
        "\n",
        "  return z\n",
        "\n",
        "print('Done!')"
      ],
      "execution_count": null,
      "outputs": []
    },
    {
      "cell_type": "markdown",
      "metadata": {
        "id": "F5GLhuO92GAx"
      },
      "source": [
        "To train the discriminator, we also need fake samples that are generated by our generator network. So we need a function to generate fake samples using the generator. As these samples are fake, they should have the label '0' to properly train the discriminator:"
      ]
    },
    {
      "cell_type": "code",
      "metadata": {
        "id": "8rnUNcFYb5iM"
      },
      "source": [
        "# Function used to generate fake samples to train the discriminator:\n",
        "def generate_fake_samples(generator, z_dim, num_samples):\n",
        "\n",
        "  # to use the generator, we need to sample the noise vector z first:\n",
        "  z = sample_z(z_dim, num_samples)\n",
        "\n",
        "  # generate fake samples using the generator:\n",
        "  x = generator.predict(z)\n",
        "\n",
        "  # the samples are fake so they should have the class labels '0':\n",
        "  y = zeros((num_samples, 1))\n",
        "\n",
        "  return x, y\n",
        "\n",
        "print('Done!')"
      ],
      "execution_count": null,
      "outputs": []
    },
    {
      "cell_type": "markdown",
      "metadata": {
        "id": "V6TnX_H7Sgt4"
      },
      "source": [
        "Since we want to actually see (visually examine) the fruits of our labour (the generated images), the functions in the following snippets will enable us to use what we have trained to generate and plot some images:\n"
      ]
    },
    {
      "cell_type": "code",
      "metadata": {
        "id": "tBal6PxRRpv5"
      },
      "source": [
        "# Function used to plot the generated images:\n",
        "def plot_image(images, epoch, n=3):\n",
        "\n",
        "  # scale the images from [-1,1] to [0,1]\n",
        "  images = (images + 1) / 2.0\n",
        "\n",
        "  # loop to go through images and plot them\n",
        "  for i in range(n * n):\n",
        "    # subplot\n",
        "    pyplot.subplot(n, n, 1 + i)\n",
        "    # plot image without any axes:\n",
        "    pyplot.axis('off')\n",
        "    # plot the image pixels:\n",
        "    pyplot.imshow(images[i])\n",
        "\n",
        "  pyplot.show()\n",
        "\n",
        "# ---------------------------------------------------\n",
        "# ---------------------------------------------------\n",
        "\n",
        "# Function to evaluate the model and plot results images:\n",
        "def eval_model(epoch, generator, discriminator, data, z_dim, num_samples=150):\n",
        "\n",
        "  # get real samples:\n",
        "  x_real, y_real = get_real_samples(data, num_samples)\n",
        "\n",
        "  # evaluate the discriminator network on real samples:\n",
        "  _, real_acc = discriminator.evaluate(x_real, y_real, verbose=0)\n",
        "\n",
        "  # get fake samples:\n",
        "  x_fake, y_fake = generate_fake_samples(generator, z_dim, num_samples)\n",
        "\n",
        "  # evaluate the discriminator network on fake examples:\n",
        "  _, fake_acc = discriminator.evaluate(x_fake, y_fake, verbose=0)\n",
        "\n",
        "  # summarise discriminator performance:\n",
        "  print('\\n---------------------------')\n",
        "  if epoch == 0:\n",
        "    print('This is what the generator images look like, before we actually train the GAN:')\n",
        "  else:\n",
        "    print(f'** End of Epoch {epoch+1}: Real Accuracy: {real_acc*100} - Fake Accuracy: {fake_acc*100}')\n",
        "\n",
        "  # plot the generated images:\n",
        "  plot_image(x_fake, epoch)\n",
        "  print('---------------------------\\n')\n",
        "\n",
        "print('Done!')"
      ],
      "execution_count": null,
      "outputs": []
    },
    {
      "cell_type": "markdown",
      "metadata": {
        "id": "q7_ukGSQc4mz"
      },
      "source": [
        "Now that all preparations are made and the network architecture has been designed, it is time to start training the model."
      ]
    },
    {
      "cell_type": "markdown",
      "metadata": {
        "id": "o5HA9zq5dhcq"
      },
      "source": [
        "First, let's decide the dimensions of the latent vector *z*:"
      ]
    },
    {
      "cell_type": "code",
      "metadata": {
        "id": "vl05vwsEduA9"
      },
      "source": [
        "z_dim = 100\n",
        "\n",
        "print('Done!')"
      ],
      "execution_count": null,
      "outputs": []
    },
    {
      "cell_type": "markdown",
      "metadata": {
        "id": "xztA7dmCfkLB"
      },
      "source": [
        "Let's create the networks and set our batch size and number of epochs:"
      ]
    },
    {
      "cell_type": "code",
      "metadata": {
        "id": "Q2bH8teBfmq9"
      },
      "source": [
        "# discriminator:\n",
        "discriminator = create_discriminator()\n",
        "\n",
        "# generator:\n",
        "generator = create_generator(z_dim)\n",
        "\n",
        "# combined gan:\n",
        "gan = create_gan(generator, discriminator)\n",
        "\n",
        "# number of epochs and batch size:\n",
        "num_epochs = 50\n",
        "batch_size = 64"
      ],
      "execution_count": null,
      "outputs": []
    },
    {
      "cell_type": "markdown",
      "metadata": {
        "id": "3lIJ2EJueYZC"
      },
      "source": [
        "We are now ready to load the data:"
      ]
    },
    {
      "cell_type": "code",
      "metadata": {
        "id": "cNosfjAueY4q"
      },
      "source": [
        "# load image data\n",
        "dataset = load_prepare_dataset()"
      ],
      "execution_count": null,
      "outputs": []
    },
    {
      "cell_type": "markdown",
      "metadata": {
        "id": "44EK0qiahETH"
      },
      "source": [
        "Now for the main event, the **main training loop**.\n",
        "\n",
        "We are going to iterate over the number of epochs and the batches in every epoch in a nested loop.\n",
        "\n",
        "The losses and a number of sample images will be displayed after every 3 epochs of training so we can inspect the progress of our model:"
      ]
    },
    {
      "cell_type": "code",
      "metadata": {
        "id": "dIDsBvm2hLbN"
      },
      "source": [
        "# loop over the number of epochs\n",
        "for i in range(num_epochs):\n",
        "\n",
        "  # every 5 epochs, print the losses and display images:\n",
        "  if i % 3 == 0:\n",
        "    eval_model(i, generator, discriminator, dataset, z_dim)\n",
        "\n",
        "  # loop over the number of batches in every epoch\n",
        "  for j in range(dataset.shape[0] // batch_size):\n",
        "\n",
        "    # get randomly selected 'real' samples\n",
        "    x_real, y_real = get_real_samples(dataset, batch_size)\n",
        "\n",
        "    # train the discriminator using real samples:\n",
        "    discriminator_loss_real, _ = discriminator.train_on_batch(x_real, y_real)\n",
        "\n",
        "    # generate fake examples for training the discriminator:\n",
        "    x_fake, y_fake = generate_fake_samples(generator, z_dim, batch_size)\n",
        "\n",
        "    # train the discriminator using fake samples:\n",
        "    discriminator_loss_fake, _ = discriminator.train_on_batch(x_fake, y_fake)\n",
        "\n",
        "    # get the noise vector z for training the generator:\n",
        "    z = sample_z(z_dim, batch_size)\n",
        "    # now we need labels for training the generator. To train the generator, generated fake images are passed into the discriminator.\n",
        "    # but the network will be given the 'real' label '1':\n",
        "    y_generator = ones((batch_size, 1))\n",
        "\n",
        "    # train the generator:\n",
        "    generator_loss = gan.train_on_batch(z, y_generator)\n",
        "\n",
        "    # print the loss every 100 steps:\n",
        "    if (j) % 100 == 0:\n",
        "      print(f'Epoch: {i+1:03} - Batch: {j:04}/{(dataset.shape[0]//batch_size)} - discriminator_loss_real={discriminator_loss_real:.2f} - discriminator_loss_fake={discriminator_loss_fake:.2f} - generator_loss={generator_loss:.2f}')\n",
        "\n",
        "print('Done!')"
      ],
      "execution_count": null,
      "outputs": []
    }
  ]
}